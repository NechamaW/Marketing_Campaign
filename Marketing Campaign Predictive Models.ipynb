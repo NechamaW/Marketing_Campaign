{
 "cells": [
  {
   "cell_type": "markdown",
   "id": "4eb4bb18",
   "metadata": {},
   "source": [
    "# Campaign Response Prediction\n",
    "## Preliminary Models\n",
    "## importing libraries"
   ]
  },
  {
   "cell_type": "code",
   "execution_count": 1,
   "id": "635bfd7c",
   "metadata": {},
   "outputs": [],
   "source": [
    "import numpy as np\n",
    "import pandas as pd\n",
    "import matplotlib.pyplot as plt\n",
    "import seaborn as sns\n",
    "import random\n",
    "from sklearn.preprocessing import LabelEncoder, OneHotEncoder\n",
    "from sklearn.model_selection import train_test_split\n",
    "from sklearn.metrics import roc_curve, roc_auc_score, auc\n",
    "from sklearn.ensemble import RandomForestClassifier\n",
    "from sklearn.metrics import classification_report, confusion_matrix, accuracy_score\n",
    "from sklearn.tree import plot_tree\n",
    "from sklearn.svm import SVC\n",
    "from sklearn.feature_selection import SelectFromModel\n",
    "from sklearn.svm import LinearSVC\n",
    "from sklearn.preprocessing import StandardScaler\n",
    "import xgboost as xgb\n",
    "from imblearn.over_sampling import SMOTE\n",
    "from collections import Counter\n",
    "from sklearn.preprocessing import RobustScaler\n",
    "from sklearn.model_selection import GridSearchCV,RandomizedSearchCV\n",
    "from scipy.stats import uniform\n",
    "%matplotlib inline"
   ]
  },
  {
   "cell_type": "code",
   "execution_count": 2,
   "id": "7f7ef0d8",
   "metadata": {},
   "outputs": [],
   "source": [
    "pd.set_option('display.max_columns', None)\n",
    "df = pd.read_csv('superstore_data_clean.csv')"
   ]
  },
  {
   "cell_type": "markdown",
   "id": "7eea17d1",
   "metadata": {},
   "source": [
    "Separate the target variable from the rest of the dataset"
   ]
  },
  {
   "cell_type": "code",
   "execution_count": 3,
   "id": "4fd181fd",
   "metadata": {},
   "outputs": [],
   "source": [
    "X = df.drop(columns=['Response'])\n",
    "y= df['Response']"
   ]
  },
  {
   "cell_type": "markdown",
   "id": "528c8a06",
   "metadata": {},
   "source": [
    "## Detect Key Factors \n",
    "Training a random forest model on the entire dataset to get feature importance"
   ]
  },
  {
   "cell_type": "code",
   "execution_count": 4,
   "id": "17507985",
   "metadata": {},
   "outputs": [],
   "source": [
    "rf_all = RandomForestClassifier(n_estimators = 100, random_state=10)\n",
    "rf_all.fit(X, y)\n",
    "rf_all_y_pred = rf_all.predict(X)"
   ]
  },
  {
   "cell_type": "code",
   "execution_count": 5,
   "id": "8a0fa21f",
   "metadata": {
    "scrolled": true
   },
   "outputs": [
    {
     "name": "stdout",
     "output_type": "stream",
     "text": [
      "              precision    recall  f1-score   support\n",
      "\n",
      "           0       0.99      1.00      1.00      1906\n",
      "           1       0.99      0.96      0.97       334\n",
      "\n",
      "    accuracy                           0.99      2240\n",
      "   macro avg       0.99      0.98      0.98      2240\n",
      "weighted avg       0.99      0.99      0.99      2240\n",
      "\n"
     ]
    }
   ],
   "source": [
    "print(classification_report(y, rf_all_y_pred))"
   ]
  },
  {
   "cell_type": "markdown",
   "id": "99324358",
   "metadata": {},
   "source": [
    "based on the findings the top few features are Recency, income, A few differenct procuct purchases and tenure."
   ]
  },
  {
   "cell_type": "code",
   "execution_count": 6,
   "id": "16dbb10c",
   "metadata": {
    "scrolled": false
   },
   "outputs": [
    {
     "data": {
      "text/html": [
       "<div>\n",
       "<style scoped>\n",
       "    .dataframe tbody tr th:only-of-type {\n",
       "        vertical-align: middle;\n",
       "    }\n",
       "\n",
       "    .dataframe tbody tr th {\n",
       "        vertical-align: top;\n",
       "    }\n",
       "\n",
       "    .dataframe thead th {\n",
       "        text-align: right;\n",
       "    }\n",
       "</style>\n",
       "<table border=\"1\" class=\"dataframe\">\n",
       "  <thead>\n",
       "    <tr style=\"text-align: right;\">\n",
       "      <th></th>\n",
       "      <th>Feature</th>\n",
       "      <th>Importance</th>\n",
       "    </tr>\n",
       "  </thead>\n",
       "  <tbody>\n",
       "    <tr>\n",
       "      <th>0</th>\n",
       "      <td>Recency</td>\n",
       "      <td>10.164%</td>\n",
       "    </tr>\n",
       "    <tr>\n",
       "      <th>1</th>\n",
       "      <td>Income</td>\n",
       "      <td>9.017%</td>\n",
       "    </tr>\n",
       "    <tr>\n",
       "      <th>2</th>\n",
       "      <td>MntWines</td>\n",
       "      <td>8.888%</td>\n",
       "    </tr>\n",
       "    <tr>\n",
       "      <th>3</th>\n",
       "      <td>MntMeatProducts</td>\n",
       "      <td>8.128%</td>\n",
       "    </tr>\n",
       "    <tr>\n",
       "      <th>4</th>\n",
       "      <td>Tenure</td>\n",
       "      <td>7.859%</td>\n",
       "    </tr>\n",
       "    <tr>\n",
       "      <th>5</th>\n",
       "      <td>MntGoldProds</td>\n",
       "      <td>6.309%</td>\n",
       "    </tr>\n",
       "    <tr>\n",
       "      <th>6</th>\n",
       "      <td>Age</td>\n",
       "      <td>5.118%</td>\n",
       "    </tr>\n",
       "    <tr>\n",
       "      <th>7</th>\n",
       "      <td>NumCatalogPurchases</td>\n",
       "      <td>4.921%</td>\n",
       "    </tr>\n",
       "    <tr>\n",
       "      <th>8</th>\n",
       "      <td>MntFishProducts</td>\n",
       "      <td>4.783%</td>\n",
       "    </tr>\n",
       "    <tr>\n",
       "      <th>9</th>\n",
       "      <td>MntSweetProducts</td>\n",
       "      <td>4.730%</td>\n",
       "    </tr>\n",
       "    <tr>\n",
       "      <th>10</th>\n",
       "      <td>NumStorePurchases</td>\n",
       "      <td>4.598%</td>\n",
       "    </tr>\n",
       "    <tr>\n",
       "      <th>11</th>\n",
       "      <td>MntFruits</td>\n",
       "      <td>4.492%</td>\n",
       "    </tr>\n",
       "    <tr>\n",
       "      <th>12</th>\n",
       "      <td>NumWebVisitsMonth</td>\n",
       "      <td>4.380%</td>\n",
       "    </tr>\n",
       "    <tr>\n",
       "      <th>13</th>\n",
       "      <td>NumWebPurchases</td>\n",
       "      <td>3.535%</td>\n",
       "    </tr>\n",
       "    <tr>\n",
       "      <th>14</th>\n",
       "      <td>NumDealsPurchases</td>\n",
       "      <td>3.302%</td>\n",
       "    </tr>\n",
       "    <tr>\n",
       "      <th>15</th>\n",
       "      <td>Education</td>\n",
       "      <td>2.407%</td>\n",
       "    </tr>\n",
       "    <tr>\n",
       "      <th>16</th>\n",
       "      <td>Teenhome</td>\n",
       "      <td>1.541%</td>\n",
       "    </tr>\n",
       "    <tr>\n",
       "      <th>17</th>\n",
       "      <td>Marital_Status_Single</td>\n",
       "      <td>1.469%</td>\n",
       "    </tr>\n",
       "    <tr>\n",
       "      <th>18</th>\n",
       "      <td>Marital_Status_Divorced/Widow</td>\n",
       "      <td>1.204%</td>\n",
       "    </tr>\n",
       "    <tr>\n",
       "      <th>19</th>\n",
       "      <td>Marital_Status_Married</td>\n",
       "      <td>1.047%</td>\n",
       "    </tr>\n",
       "    <tr>\n",
       "      <th>20</th>\n",
       "      <td>Marital_Status_Together</td>\n",
       "      <td>0.966%</td>\n",
       "    </tr>\n",
       "    <tr>\n",
       "      <th>21</th>\n",
       "      <td>Kidhome</td>\n",
       "      <td>0.815%</td>\n",
       "    </tr>\n",
       "    <tr>\n",
       "      <th>22</th>\n",
       "      <td>Marital_Status_Unknown</td>\n",
       "      <td>0.250%</td>\n",
       "    </tr>\n",
       "    <tr>\n",
       "      <th>23</th>\n",
       "      <td>Complain</td>\n",
       "      <td>0.075%</td>\n",
       "    </tr>\n",
       "  </tbody>\n",
       "</table>\n",
       "</div>"
      ],
      "text/plain": [
       "                          Feature Importance\n",
       "0                         Recency    10.164%\n",
       "1                          Income     9.017%\n",
       "2                        MntWines     8.888%\n",
       "3                 MntMeatProducts     8.128%\n",
       "4                          Tenure     7.859%\n",
       "5                    MntGoldProds     6.309%\n",
       "6                             Age     5.118%\n",
       "7             NumCatalogPurchases     4.921%\n",
       "8                 MntFishProducts     4.783%\n",
       "9                MntSweetProducts     4.730%\n",
       "10              NumStorePurchases     4.598%\n",
       "11                      MntFruits     4.492%\n",
       "12              NumWebVisitsMonth     4.380%\n",
       "13                NumWebPurchases     3.535%\n",
       "14              NumDealsPurchases     3.302%\n",
       "15                      Education     2.407%\n",
       "16                       Teenhome     1.541%\n",
       "17          Marital_Status_Single     1.469%\n",
       "18  Marital_Status_Divorced/Widow     1.204%\n",
       "19         Marital_Status_Married     1.047%\n",
       "20        Marital_Status_Together     0.966%\n",
       "21                        Kidhome     0.815%\n",
       "22         Marital_Status_Unknown     0.250%\n",
       "23                       Complain     0.075%"
      ]
     },
     "execution_count": 6,
     "metadata": {},
     "output_type": "execute_result"
    }
   ],
   "source": [
    "columns = X.columns\n",
    "feature_imp = pd.Series(rf_all.feature_importances_, index = columns).sort_values(ascending = False)\n",
    "feature_imp_df = pd.DataFrame({'Feature': feature_imp.index, 'Importance': feature_imp.values*100})\n",
    "feature_imp_df['Importance'] = feature_imp_df['Importance'].apply(lambda x: f'{x:.3f}%')\n",
    "\n",
    "feature_imp_df"
   ]
  },
  {
   "cell_type": "markdown",
   "id": "9e4afa78",
   "metadata": {},
   "source": [
    "Split the data into train and test sets. \n",
    "\n",
    "70% is used for the training\n",
    "\n",
    "maintained a similar ratio of positive to negative as the original dataset"
   ]
  },
  {
   "cell_type": "code",
   "execution_count": 7,
   "id": "a2400528",
   "metadata": {},
   "outputs": [],
   "source": [
    "X_train, X_test, y_train, y_test = train_test_split(X, y, test_size=0.3, random_state=10)"
   ]
  },
  {
   "cell_type": "code",
   "execution_count": 8,
   "id": "ead87936",
   "metadata": {
    "scrolled": true
   },
   "outputs": [
    {
     "name": "stdout",
     "output_type": "stream",
     "text": [
      "Results for y_train:\n",
      "Percentage of 'yes': 14.67%\n",
      "Percentage of 'no': 85.33%\n",
      "\n",
      "Results for y_test:\n",
      "Percentage of 'yes': 15.48%\n",
      "Percentage of 'no': 84.52%\n"
     ]
    }
   ],
   "source": [
    "count_yes_train = np.sum(y_train == 1)\n",
    "count_no_train = np.sum(y_train == 0)\n",
    "total_count_train = y_train.size\n",
    "percentage_yes_train = (count_yes_train / total_count_train) * 100\n",
    "percentage_no_train = (count_no_train / total_count_train) * 100\n",
    "\n",
    "# Calculate counts and percentages for y_test\n",
    "count_yes_test = np.sum(y_test == 1)\n",
    "count_no_test = np.sum(y_test == 0)\n",
    "total_count_test = y_test.size\n",
    "percentage_yes_test = (count_yes_test / total_count_test) * 100\n",
    "percentage_no_test = (count_no_test / total_count_test) * 100\n",
    "\n",
    "# Print the results for y_train\n",
    "print(\"Results for y_train:\")\n",
    "print(f\"Percentage of 'yes': {percentage_yes_train:.2f}%\")\n",
    "print(f\"Percentage of 'no': {percentage_no_train:.2f}%\")\n",
    "print()\n",
    "\n",
    "# Print the results for y_test\n",
    "print(\"Results for y_test:\")\n",
    "print(f\"Percentage of 'yes': {percentage_yes_test:.2f}%\")\n",
    "print(f\"Percentage of 'no': {percentage_no_test:.2f}%\")"
   ]
  },
  {
   "cell_type": "markdown",
   "id": "a9a6ab68",
   "metadata": {},
   "source": [
    "## Test a few different models and compare results\n",
    "\n",
    "view the classification report and confusion matrix for a breakdown of the results"
   ]
  },
  {
   "cell_type": "markdown",
   "id": "1a236749",
   "metadata": {},
   "source": [
    "Random Forest Classifier"
   ]
  },
  {
   "cell_type": "code",
   "execution_count": 9,
   "id": "59f2924a",
   "metadata": {},
   "outputs": [
    {
     "name": "stdout",
     "output_type": "stream",
     "text": [
      "              precision    recall  f1-score   support\n",
      "\n",
      "           0       0.88      0.99      0.93       568\n",
      "           1       0.79      0.26      0.39       104\n",
      "\n",
      "    accuracy                           0.88       672\n",
      "   macro avg       0.84      0.62      0.66       672\n",
      "weighted avg       0.87      0.88      0.85       672\n",
      "\n"
     ]
    }
   ],
   "source": [
    "rf = RandomForestClassifier(n_estimators = 100, random_state=10)\n",
    "rf.fit(X_train, y_train)\n",
    "rf_y_pred = rf.predict(X_test)\n",
    "rf_report = classification_report(y_test, rf_y_pred, output_dict=True)\n",
    "print(classification_report(y_test, rf_y_pred))"
   ]
  },
  {
   "cell_type": "code",
   "execution_count": 10,
   "id": "fd6ac857",
   "metadata": {
    "scrolled": true
   },
   "outputs": [
    {
     "name": "stdout",
     "output_type": "stream",
     "text": [
      "              precision    recall  f1-score   support\n",
      "\n",
      "           0       1.00      1.00      1.00      1338\n",
      "           1       0.99      0.97      0.98       230\n",
      "\n",
      "    accuracy                           0.99      1568\n",
      "   macro avg       0.99      0.99      0.99      1568\n",
      "weighted avg       0.99      0.99      0.99      1568\n",
      "\n"
     ]
    }
   ],
   "source": [
    "print(classification_report(y_train, rf.predict(X_train)))"
   ]
  },
  {
   "cell_type": "code",
   "execution_count": 11,
   "id": "5065e676",
   "metadata": {},
   "outputs": [
    {
     "data": {
      "image/png": "[encoded data removed]",
      "text/plain": [
       "<Figure size 600x400 with 1 Axes>"
      ]
     },
     "metadata": {},
     "output_type": "display_data"
    }
   ],
   "source": [
    "plt.figure(figsize=(6, 4))\n",
    "sns.heatmap(confusion_matrix(y_test, rf_y_pred), annot=True, cmap='Blues', fmt='d', cbar=False,\n",
    "            xticklabels=['0', '1'],\n",
    "            yticklabels=['0', '1'])\n",
    "plt.title('Random Forest Confusion Matrix')\n",
    "plt.xlabel('Predicted')\n",
    "plt.ylabel('Actual')\n",
    "plt.show()"
   ]
  },
  {
   "cell_type": "markdown",
   "id": "e3ad1f48",
   "metadata": {},
   "source": [
    "XGBoost Classifier"
   ]
  },
  {
   "cell_type": "code",
   "execution_count": 12,
   "id": "0224eb49",
   "metadata": {},
   "outputs": [
    {
     "name": "stdout",
     "output_type": "stream",
     "text": [
      "              precision    recall  f1-score   support\n",
      "\n",
      "           0       0.90      0.95      0.92       568\n",
      "           1       0.62      0.40      0.49       104\n",
      "\n",
      "    accuracy                           0.87       672\n",
      "   macro avg       0.76      0.68      0.71       672\n",
      "weighted avg       0.85      0.87      0.86       672\n",
      "\n"
     ]
    }
   ],
   "source": [
    "xgb_model = xgb.XGBClassifier(objective='binary:logistic', n_estimators=100, seed=10)\n",
    "xgb_model.fit(X_train, y_train)\n",
    "xgb_y_pred = xgb_model.predict(X_test)\n",
    "xgb_report = classification_report(y_test, xgb_y_pred, output_dict=True)\n",
    "print(classification_report(y_test, xgb_y_pred))"
   ]
  },
  {
   "cell_type": "code",
   "execution_count": 13,
   "id": "fb72d184",
   "metadata": {},
   "outputs": [
    {
     "name": "stdout",
     "output_type": "stream",
     "text": [
      "              precision    recall  f1-score   support\n",
      "\n",
      "           0       0.99      1.00      1.00      1338\n",
      "           1       0.99      0.97      0.98       230\n",
      "\n",
      "    accuracy                           0.99      1568\n",
      "   macro avg       0.99      0.98      0.99      1568\n",
      "weighted avg       0.99      0.99      0.99      1568\n",
      "\n"
     ]
    }
   ],
   "source": [
    "print(classification_report(y_train, xgb_model.predict(X_train)))"
   ]
  },
  {
   "cell_type": "code",
   "execution_count": 14,
   "id": "88d418ba",
   "metadata": {
    "scrolled": false
   },
   "outputs": [
    {
     "data": {
      "image/png": "[encoded data removed]",
      "text/plain": [
       "<Figure size 600x400 with 1 Axes>"
      ]
     },
     "metadata": {},
     "output_type": "display_data"
    }
   ],
   "source": [
    "plt.figure(figsize=(6, 4))\n",
    "sns.heatmap(confusion_matrix(y_test, xgb_y_pred), annot=True, cmap='Blues', fmt='d', cbar=False,\n",
    "            xticklabels=['0', '1'],\n",
    "            yticklabels=['0', '1'])\n",
    "plt.title('XGBoost Confusion Matrix')\n",
    "plt.xlabel('Predicted')\n",
    "plt.ylabel('Actual')\n",
    "plt.show()"
   ]
  },
  {
   "cell_type": "markdown",
   "id": "8b2a6e5b",
   "metadata": {},
   "source": [
    "SVM Classifier\n",
    "\n",
    "    Removed a few columns that are strongly correlated to each other and to the income feature.\n",
    "\n",
    "    Scaled the data with robust scaling"
   ]
  },
  {
   "cell_type": "code",
   "execution_count": 15,
   "id": "1d53a84c",
   "metadata": {},
   "outputs": [],
   "source": [
    "X_reduce = X.drop(columns = ['MntMeatProducts','MntFishProducts','MntSweetProducts','MntFruits','Complain'])"
   ]
  },
  {
   "cell_type": "code",
   "execution_count": 16,
   "id": "2f6dfb8a",
   "metadata": {},
   "outputs": [],
   "source": [
    "X_train_red, X_test_red, y_train_red, y_test_red = train_test_split(X_reduce, y, test_size=0.3, random_state=10)\n",
    "scaler = RobustScaler()\n",
    "scaler.fit(X_train_red)\n",
    "X_train_scaled = scaler.transform(X_train_red)\n",
    "X_test_scaled = scaler.transform(X_test_red)"
   ]
  },
  {
   "cell_type": "code",
   "execution_count": 17,
   "id": "b9fa6677",
   "metadata": {
    "scrolled": true
   },
   "outputs": [
    {
     "name": "stdout",
     "output_type": "stream",
     "text": [
      "              precision    recall  f1-score   support\n",
      "\n",
      "           0       0.87      0.99      0.93       568\n",
      "           1       0.87      0.19      0.31       104\n",
      "\n",
      "    accuracy                           0.87       672\n",
      "   macro avg       0.87      0.59      0.62       672\n",
      "weighted avg       0.87      0.87      0.83       672\n",
      "\n"
     ]
    }
   ],
   "source": [
    "svm_classifier = SVC(random_state=10, probability=True)\n",
    "svm_classifier.fit(X_train_scaled, y_train_red)\n",
    "svm_y_pred = svm_classifier.predict(X_test_scaled)\n",
    "svm_report = classification_report(y_test_red, svm_y_pred, output_dict=True)\n",
    "print(classification_report(y_test_red, svm_y_pred))"
   ]
  },
  {
   "cell_type": "code",
   "execution_count": 18,
   "id": "d4b4b58b",
   "metadata": {
    "scrolled": true
   },
   "outputs": [
    {
     "name": "stdout",
     "output_type": "stream",
     "text": [
      "              precision    recall  f1-score   support\n",
      "\n",
      "           0       0.89      1.00      0.94      1338\n",
      "           1       0.91      0.26      0.41       230\n",
      "\n",
      "    accuracy                           0.89      1568\n",
      "   macro avg       0.90      0.63      0.67      1568\n",
      "weighted avg       0.89      0.89      0.86      1568\n",
      "\n"
     ]
    }
   ],
   "source": [
    "print(classification_report(y_train, svm_classifier.predict(X_train_scaled)))"
   ]
  },
  {
   "cell_type": "code",
   "execution_count": 19,
   "id": "88e288f4",
   "metadata": {
    "scrolled": false
   },
   "outputs": [
    {
     "data": {
      "image/png": "[encoded data removed]",
      "text/plain": [
       "<Figure size 600x400 with 1 Axes>"
      ]
     },
     "metadata": {},
     "output_type": "display_data"
    }
   ],
   "source": [
    "plt.figure(figsize=(6, 4))\n",
    "sns.heatmap(confusion_matrix(y_test_red, svm_y_pred), annot=True, cmap='Blues', fmt='d', cbar=False,\n",
    "            xticklabels=['0', '1'],\n",
    "            yticklabels=['0', '1'])\n",
    "plt.title('SVM Confusion Matrix')\n",
    "plt.xlabel('Predicted')\n",
    "plt.ylabel('Actual')\n",
    "plt.show()"
   ]
  },
  {
   "cell_type": "markdown",
   "id": "103bb0f7",
   "metadata": {},
   "source": [
    "Compiled the important results into a data frame for easy understanding\n",
    "\n",
    "None of the models do well as the data is imbalanced in favor of class 0"
   ]
  },
  {
   "cell_type": "code",
   "execution_count": 20,
   "id": "14683237",
   "metadata": {
    "scrolled": false
   },
   "outputs": [
    {
     "data": {
      "text/html": [
       "<div>\n",
       "<style scoped>\n",
       "    .dataframe tbody tr th:only-of-type {\n",
       "        vertical-align: middle;\n",
       "    }\n",
       "\n",
       "    .dataframe tbody tr th {\n",
       "        vertical-align: top;\n",
       "    }\n",
       "\n",
       "    .dataframe thead th {\n",
       "        text-align: right;\n",
       "    }\n",
       "</style>\n",
       "<table border=\"1\" class=\"dataframe\">\n",
       "  <thead>\n",
       "    <tr style=\"text-align: right;\">\n",
       "      <th></th>\n",
       "      <th>Model</th>\n",
       "      <th>Accuracy</th>\n",
       "      <th>Precision (Class 1)</th>\n",
       "      <th>Recall (Class 1)</th>\n",
       "      <th>F1-score (Class 1)</th>\n",
       "    </tr>\n",
       "  </thead>\n",
       "  <tbody>\n",
       "    <tr>\n",
       "      <th>0</th>\n",
       "      <td>Random Forest</td>\n",
       "      <td>0.875000</td>\n",
       "      <td>0.794118</td>\n",
       "      <td>0.259615</td>\n",
       "      <td>0.391304</td>\n",
       "    </tr>\n",
       "    <tr>\n",
       "      <th>1</th>\n",
       "      <td>SVM</td>\n",
       "      <td>0.870536</td>\n",
       "      <td>0.869565</td>\n",
       "      <td>0.192308</td>\n",
       "      <td>0.314961</td>\n",
       "    </tr>\n",
       "    <tr>\n",
       "      <th>2</th>\n",
       "      <td>XGBoost</td>\n",
       "      <td>0.869048</td>\n",
       "      <td>0.617647</td>\n",
       "      <td>0.403846</td>\n",
       "      <td>0.488372</td>\n",
       "    </tr>\n",
       "  </tbody>\n",
       "</table>\n",
       "</div>"
      ],
      "text/plain": [
       "           Model  Accuracy  Precision (Class 1)  Recall (Class 1)  \\\n",
       "0  Random Forest  0.875000             0.794118          0.259615   \n",
       "1            SVM  0.870536             0.869565          0.192308   \n",
       "2        XGBoost  0.869048             0.617647          0.403846   \n",
       "\n",
       "   F1-score (Class 1)  \n",
       "0            0.391304  \n",
       "1            0.314961  \n",
       "2            0.488372  "
      ]
     },
     "execution_count": 20,
     "metadata": {},
     "output_type": "execute_result"
    }
   ],
   "source": [
    "results = {\n",
    "    'Model': ['Random Forest', 'SVM', 'XGBoost'],\n",
    "    'Accuracy': [accuracy_score(y_test, rf_y_pred), accuracy_score(y_test, svm_y_pred), accuracy_score(y_test, xgb_y_pred)],\n",
    "    'Precision (Class 1)': [rf_report['1']['precision'], svm_report['1']['precision'], xgb_report['1']['precision']],\n",
    "    'Recall (Class 1)': [rf_report['1']['recall'], svm_report['1']['recall'], xgb_report['1']['recall']],\n",
    "    'F1-score (Class 1)': [rf_report['1']['f1-score'], svm_report['1']['f1-score'], xgb_report['1']['f1-score']]\n",
    "}\n",
    "results_df = pd.DataFrame(results)\n",
    "results_df"
   ]
  },
  {
   "cell_type": "markdown",
   "id": "f0870bd8",
   "metadata": {},
   "source": [
    "## Balance the data using Smote\n",
    "\n",
    "balance the data with smote. Increased the minority class to 75% of the majority class"
   ]
  },
  {
   "cell_type": "code",
   "execution_count": 21,
   "id": "6306d557",
   "metadata": {},
   "outputs": [],
   "source": [
    "smote = SMOTE(sampling_strategy=0.75,random_state=9)\n",
    "X_balance, y_balance = smote.fit_resample(X, y)"
   ]
  },
  {
   "cell_type": "markdown",
   "id": "a80d5913",
   "metadata": {},
   "source": [
    "split the new data into test and train. 70% used for training\n",
    "\n",
    "maintained a similar ratio of positive to negative as the original dataset"
   ]
  },
  {
   "cell_type": "code",
   "execution_count": 22,
   "id": "def1e9fb",
   "metadata": {},
   "outputs": [],
   "source": [
    "X_bal_train, X_bal_test, y_bal_train, y_bal_test = train_test_split(X_balance, y_balance, test_size=0.3, random_state=10)"
   ]
  },
  {
   "cell_type": "code",
   "execution_count": 23,
   "id": "0c8e4a9b",
   "metadata": {},
   "outputs": [
    {
     "name": "stdout",
     "output_type": "stream",
     "text": [
      "Results for y_train:\n",
      "Percentage of 'yes': 43.23%\n",
      "Percentage of 'no': 56.77%\n",
      "\n",
      "Results for y_test:\n",
      "Percentage of 'yes': 41.96%\n",
      "Percentage of 'no': 58.04%\n"
     ]
    }
   ],
   "source": [
    "count_yes_train = np.sum(y_bal_train == 1)\n",
    "count_no_train = np.sum(y_bal_train == 0)\n",
    "total_count_train = y_bal_train.size\n",
    "percentage_yes_train = (count_yes_train / total_count_train) * 100\n",
    "percentage_no_train = (count_no_train / total_count_train) * 100\n",
    "\n",
    "# Calculate counts and percentages for y_test\n",
    "count_yes_test = np.sum(y_bal_test == 1)\n",
    "count_no_test = np.sum(y_bal_test == 0)\n",
    "total_count_test = y_bal_test.size\n",
    "percentage_yes_test = (count_yes_test / total_count_test) * 100\n",
    "percentage_no_test = (count_no_test / total_count_test) * 100\n",
    "\n",
    "# Print the results for y_train\n",
    "print(\"Results for y_train:\")\n",
    "print(f\"Percentage of 'yes': {percentage_yes_train:.2f}%\")\n",
    "print(f\"Percentage of 'no': {percentage_no_train:.2f}%\")\n",
    "print()\n",
    "\n",
    "# Print the results for y_test\n",
    "print(\"Results for y_test:\")\n",
    "print(f\"Percentage of 'yes': {percentage_yes_test:.2f}%\")\n",
    "print(f\"Percentage of 'no': {percentage_no_test:.2f}%\")"
   ]
  },
  {
   "cell_type": "markdown",
   "id": "d9678dd5",
   "metadata": {},
   "source": [
    "## Rerun the models and compare results\n",
    "view the classification report and confusion matrix for a breakdown of the results"
   ]
  },
  {
   "cell_type": "markdown",
   "id": "749ab870",
   "metadata": {},
   "source": [
    "Random Forest Classifier "
   ]
  },
  {
   "cell_type": "code",
   "execution_count": 24,
   "id": "15ac7d0f",
   "metadata": {},
   "outputs": [
    {
     "name": "stdout",
     "output_type": "stream",
     "text": [
      "              precision    recall  f1-score   support\n",
      "\n",
      "           0       0.92      0.95      0.93       581\n",
      "           1       0.93      0.89      0.91       420\n",
      "\n",
      "    accuracy                           0.92      1001\n",
      "   macro avg       0.92      0.92      0.92      1001\n",
      "weighted avg       0.92      0.92      0.92      1001\n",
      "\n"
     ]
    }
   ],
   "source": [
    "rf_bal = RandomForestClassifier(n_estimators = 100, random_state=10)\n",
    "rf_bal.fit(X_bal_train, y_bal_train)\n",
    "rf_bal_y_pred = rf_bal.predict(X_bal_test)\n",
    "rf_bal_report = classification_report(y_bal_test, rf_bal_y_pred, output_dict=True)\n",
    "print(classification_report(y_bal_test, rf_bal_y_pred))"
   ]
  },
  {
   "cell_type": "code",
   "execution_count": 25,
   "id": "634f07bc",
   "metadata": {
    "scrolled": true
   },
   "outputs": [
    {
     "name": "stdout",
     "output_type": "stream",
     "text": [
      "              precision    recall  f1-score   support\n",
      "\n",
      "           0       1.00      1.00      1.00      1325\n",
      "           1       1.00      0.99      0.99      1009\n",
      "\n",
      "    accuracy                           1.00      2334\n",
      "   macro avg       1.00      1.00      1.00      2334\n",
      "weighted avg       1.00      1.00      1.00      2334\n",
      "\n"
     ]
    }
   ],
   "source": [
    "print(classification_report(y_bal_train, rf_bal.predict(X_bal_train)))"
   ]
  },
  {
   "cell_type": "markdown",
   "id": "2621886a",
   "metadata": {},
   "source": [
    "Feature importance of the model"
   ]
  },
  {
   "cell_type": "code",
   "execution_count": 26,
   "id": "0040875b",
   "metadata": {},
   "outputs": [
    {
     "data": {
      "text/html": [
       "<div>\n",
       "<style scoped>\n",
       "    .dataframe tbody tr th:only-of-type {\n",
       "        vertical-align: middle;\n",
       "    }\n",
       "\n",
       "    .dataframe tbody tr th {\n",
       "        vertical-align: top;\n",
       "    }\n",
       "\n",
       "    .dataframe thead th {\n",
       "        text-align: right;\n",
       "    }\n",
       "</style>\n",
       "<table border=\"1\" class=\"dataframe\">\n",
       "  <thead>\n",
       "    <tr style=\"text-align: right;\">\n",
       "      <th></th>\n",
       "      <th>Feature</th>\n",
       "      <th>Importance</th>\n",
       "    </tr>\n",
       "  </thead>\n",
       "  <tbody>\n",
       "    <tr>\n",
       "      <th>0</th>\n",
       "      <td>Recency</td>\n",
       "      <td>9.988%</td>\n",
       "    </tr>\n",
       "    <tr>\n",
       "      <th>1</th>\n",
       "      <td>Income</td>\n",
       "      <td>7.388%</td>\n",
       "    </tr>\n",
       "    <tr>\n",
       "      <th>2</th>\n",
       "      <td>MntGoldProds</td>\n",
       "      <td>7.097%</td>\n",
       "    </tr>\n",
       "    <tr>\n",
       "      <th>3</th>\n",
       "      <td>Tenure</td>\n",
       "      <td>7.061%</td>\n",
       "    </tr>\n",
       "    <tr>\n",
       "      <th>4</th>\n",
       "      <td>MntMeatProducts</td>\n",
       "      <td>6.973%</td>\n",
       "    </tr>\n",
       "    <tr>\n",
       "      <th>5</th>\n",
       "      <td>MntWines</td>\n",
       "      <td>6.824%</td>\n",
       "    </tr>\n",
       "    <tr>\n",
       "      <th>6</th>\n",
       "      <td>Marital_Status_Married</td>\n",
       "      <td>6.013%</td>\n",
       "    </tr>\n",
       "    <tr>\n",
       "      <th>7</th>\n",
       "      <td>Marital_Status_Single</td>\n",
       "      <td>4.991%</td>\n",
       "    </tr>\n",
       "    <tr>\n",
       "      <th>8</th>\n",
       "      <td>NumStorePurchases</td>\n",
       "      <td>4.650%</td>\n",
       "    </tr>\n",
       "    <tr>\n",
       "      <th>9</th>\n",
       "      <td>Marital_Status_Together</td>\n",
       "      <td>4.342%</td>\n",
       "    </tr>\n",
       "    <tr>\n",
       "      <th>10</th>\n",
       "      <td>Teenhome</td>\n",
       "      <td>3.849%</td>\n",
       "    </tr>\n",
       "    <tr>\n",
       "      <th>11</th>\n",
       "      <td>Age</td>\n",
       "      <td>3.636%</td>\n",
       "    </tr>\n",
       "    <tr>\n",
       "      <th>12</th>\n",
       "      <td>MntFishProducts</td>\n",
       "      <td>3.631%</td>\n",
       "    </tr>\n",
       "    <tr>\n",
       "      <th>13</th>\n",
       "      <td>MntSweetProducts</td>\n",
       "      <td>3.597%</td>\n",
       "    </tr>\n",
       "    <tr>\n",
       "      <th>14</th>\n",
       "      <td>NumCatalogPurchases</td>\n",
       "      <td>3.506%</td>\n",
       "    </tr>\n",
       "    <tr>\n",
       "      <th>15</th>\n",
       "      <td>Marital_Status_Divorced/Widow</td>\n",
       "      <td>3.404%</td>\n",
       "    </tr>\n",
       "    <tr>\n",
       "      <th>16</th>\n",
       "      <td>MntFruits</td>\n",
       "      <td>3.166%</td>\n",
       "    </tr>\n",
       "    <tr>\n",
       "      <th>17</th>\n",
       "      <td>NumWebVisitsMonth</td>\n",
       "      <td>2.803%</td>\n",
       "    </tr>\n",
       "    <tr>\n",
       "      <th>18</th>\n",
       "      <td>NumDealsPurchases</td>\n",
       "      <td>2.273%</td>\n",
       "    </tr>\n",
       "    <tr>\n",
       "      <th>19</th>\n",
       "      <td>NumWebPurchases</td>\n",
       "      <td>2.254%</td>\n",
       "    </tr>\n",
       "    <tr>\n",
       "      <th>20</th>\n",
       "      <td>Education</td>\n",
       "      <td>1.771%</td>\n",
       "    </tr>\n",
       "    <tr>\n",
       "      <th>21</th>\n",
       "      <td>Kidhome</td>\n",
       "      <td>0.605%</td>\n",
       "    </tr>\n",
       "    <tr>\n",
       "      <th>22</th>\n",
       "      <td>Marital_Status_Unknown</td>\n",
       "      <td>0.162%</td>\n",
       "    </tr>\n",
       "    <tr>\n",
       "      <th>23</th>\n",
       "      <td>Complain</td>\n",
       "      <td>0.016%</td>\n",
       "    </tr>\n",
       "  </tbody>\n",
       "</table>\n",
       "</div>"
      ],
      "text/plain": [
       "                          Feature Importance\n",
       "0                         Recency     9.988%\n",
       "1                          Income     7.388%\n",
       "2                    MntGoldProds     7.097%\n",
       "3                          Tenure     7.061%\n",
       "4                 MntMeatProducts     6.973%\n",
       "5                        MntWines     6.824%\n",
       "6          Marital_Status_Married     6.013%\n",
       "7           Marital_Status_Single     4.991%\n",
       "8               NumStorePurchases     4.650%\n",
       "9         Marital_Status_Together     4.342%\n",
       "10                       Teenhome     3.849%\n",
       "11                            Age     3.636%\n",
       "12                MntFishProducts     3.631%\n",
       "13               MntSweetProducts     3.597%\n",
       "14            NumCatalogPurchases     3.506%\n",
       "15  Marital_Status_Divorced/Widow     3.404%\n",
       "16                      MntFruits     3.166%\n",
       "17              NumWebVisitsMonth     2.803%\n",
       "18              NumDealsPurchases     2.273%\n",
       "19                NumWebPurchases     2.254%\n",
       "20                      Education     1.771%\n",
       "21                        Kidhome     0.605%\n",
       "22         Marital_Status_Unknown     0.162%\n",
       "23                       Complain     0.016%"
      ]
     },
     "execution_count": 26,
     "metadata": {},
     "output_type": "execute_result"
    }
   ],
   "source": [
    "columns = X.columns\n",
    "feature_imp = pd.Series(rf_bal.feature_importances_, index = columns).sort_values(ascending = False)\n",
    "feature_imp_df = pd.DataFrame({'Feature': feature_imp.index, 'Importance': feature_imp.values*100})\n",
    "feature_imp_df['Importance'] = feature_imp_df['Importance'].apply(lambda x: f'{x:.3f}%')\n",
    "\n",
    "feature_imp_df"
   ]
  },
  {
   "cell_type": "code",
   "execution_count": 27,
   "id": "335c86c2",
   "metadata": {
    "scrolled": false
   },
   "outputs": [
    {
     "data": {
      "image/png": "[encoded data removed]",
      "text/plain": [
       "<Figure size 600x400 with 1 Axes>"
      ]
     },
     "metadata": {},
     "output_type": "display_data"
    }
   ],
   "source": [
    "plt.figure(figsize=(6, 4))\n",
    "sns.heatmap(confusion_matrix(y_bal_test, rf_bal_y_pred), annot=True, cmap='Blues', fmt='d', cbar=False,\n",
    "            xticklabels=['0', '1'],\n",
    "            yticklabels=['0', '1'])\n",
    "plt.title('Random Forest Confusion Matrix')\n",
    "plt.xlabel('Predicted')\n",
    "plt.ylabel('Actual')\n",
    "plt.show()"
   ]
  },
  {
   "cell_type": "markdown",
   "id": "4222ea78",
   "metadata": {},
   "source": [
    "XGBoost Classifier"
   ]
  },
  {
   "cell_type": "code",
   "execution_count": 28,
   "id": "0e41c84a",
   "metadata": {},
   "outputs": [
    {
     "name": "stdout",
     "output_type": "stream",
     "text": [
      "              precision    recall  f1-score   support\n",
      "\n",
      "           0       0.92      0.92      0.92       581\n",
      "           1       0.89      0.89      0.89       420\n",
      "\n",
      "    accuracy                           0.91      1001\n",
      "   macro avg       0.91      0.91      0.91      1001\n",
      "weighted avg       0.91      0.91      0.91      1001\n",
      "\n"
     ]
    }
   ],
   "source": [
    "xgb_bal_model = xgb.XGBClassifier(objective='binary:logistic', n_estimators=100, seed=10)\n",
    "xgb_bal_model.fit(X_bal_train, y_bal_train)\n",
    "xgb_bal_y_pred = xgb_bal_model.predict(X_bal_test)\n",
    "xgb_bal_report = classification_report(y_bal_test, xgb_bal_y_pred, output_dict=True)\n",
    "print(classification_report(y_bal_test, xgb_bal_y_pred))"
   ]
  },
  {
   "cell_type": "code",
   "execution_count": 29,
   "id": "b75a61e8",
   "metadata": {},
   "outputs": [
    {
     "name": "stdout",
     "output_type": "stream",
     "text": [
      "              precision    recall  f1-score   support\n",
      "\n",
      "           0       1.00      1.00      1.00      1325\n",
      "           1       1.00      0.99      0.99      1009\n",
      "\n",
      "    accuracy                           1.00      2334\n",
      "   macro avg       1.00      1.00      1.00      2334\n",
      "weighted avg       1.00      1.00      1.00      2334\n",
      "\n"
     ]
    }
   ],
   "source": [
    "print(classification_report(y_bal_train, xgb_bal_model.predict(X_bal_train)))"
   ]
  },
  {
   "cell_type": "code",
   "execution_count": 30,
   "id": "237ec5ac",
   "metadata": {
    "scrolled": false
   },
   "outputs": [
    {
     "data": {
      "image/png": "[encoded data removed]",
      "text/plain": [
       "<Figure size 600x400 with 1 Axes>"
      ]
     },
     "metadata": {},
     "output_type": "display_data"
    }
   ],
   "source": [
    "plt.figure(figsize=(6, 4))\n",
    "sns.heatmap(confusion_matrix(y_bal_test, xgb_bal_y_pred), annot=True, cmap='Blues', fmt='d', cbar=False,\n",
    "            xticklabels=['0', '1'],\n",
    "            yticklabels=['0', '1'])\n",
    "plt.title('XGBoost Confusion Matrix')\n",
    "plt.xlabel('Predicted')\n",
    "plt.ylabel('Actual')\n",
    "plt.show()"
   ]
  },
  {
   "cell_type": "markdown",
   "id": "4443e3e7",
   "metadata": {},
   "source": [
    "SVM classifer\n",
    "\n",
    "Removed highly correlated columns and scaled the data"
   ]
  },
  {
   "cell_type": "code",
   "execution_count": 31,
   "id": "5e1cbfd1",
   "metadata": {},
   "outputs": [],
   "source": [
    "X_bal_reduce = X_balance.drop(columns = ['MntMeatProducts','MntFishProducts','MntSweetProducts','MntFruits','Complain'])\n",
    "\n",
    "X_bal_train_red, X_bal_test_red, y_bal_train_red, y_bal_test_red = train_test_split(X_bal_reduce, y_balance, test_size=0.3, random_state=10)\n",
    "scaler = RobustScaler()\n",
    "scaler.fit(X_bal_train_red)\n",
    "X_bal_train_scaled = scaler.transform(X_bal_train_red)\n",
    "X_bal_test_scaled = scaler.transform(X_bal_test_red)"
   ]
  },
  {
   "cell_type": "code",
   "execution_count": 32,
   "id": "2315f2d8",
   "metadata": {},
   "outputs": [
    {
     "name": "stdout",
     "output_type": "stream",
     "text": [
      "              precision    recall  f1-score   support\n",
      "\n",
      "           0       0.90      0.90      0.90       581\n",
      "           1       0.86      0.86      0.86       420\n",
      "\n",
      "    accuracy                           0.89      1001\n",
      "   macro avg       0.88      0.88      0.88      1001\n",
      "weighted avg       0.89      0.89      0.89      1001\n",
      "\n"
     ]
    }
   ],
   "source": [
    "svm_classifier_bal = SVC(random_state=10, probability=True)\n",
    "svm_classifier_bal.fit(X_bal_train_scaled, y_bal_train_red)\n",
    "svm_bal_y_pred = svm_classifier_bal.predict(X_bal_test_scaled)\n",
    "svm_bal_report = classification_report(y_bal_test_red, svm_bal_y_pred, output_dict=True)\n",
    "print(classification_report(y_bal_test_red, svm_bal_y_pred))"
   ]
  },
  {
   "cell_type": "code",
   "execution_count": 33,
   "id": "555e5d75",
   "metadata": {},
   "outputs": [
    {
     "name": "stdout",
     "output_type": "stream",
     "text": [
      "              precision    recall  f1-score   support\n",
      "\n",
      "           0       0.93      0.93      0.93      1325\n",
      "           1       0.90      0.91      0.91      1009\n",
      "\n",
      "    accuracy                           0.92      2334\n",
      "   macro avg       0.92      0.92      0.92      2334\n",
      "weighted avg       0.92      0.92      0.92      2334\n",
      "\n"
     ]
    }
   ],
   "source": [
    "print(classification_report(y_bal_train, svm_classifier_bal.predict(X_bal_train_scaled)))"
   ]
  },
  {
   "cell_type": "code",
   "execution_count": 34,
   "id": "c68a0714",
   "metadata": {
    "scrolled": false
   },
   "outputs": [
    {
     "data": {
      "image/png": "[encoded data removed]",
      "text/plain": [
       "<Figure size 600x400 with 1 Axes>"
      ]
     },
     "metadata": {},
     "output_type": "display_data"
    }
   ],
   "source": [
    "plt.figure(figsize=(6, 4))\n",
    "sns.heatmap(confusion_matrix(y_bal_test_red, svm_bal_y_pred), annot=True, cmap='Blues', fmt='d', cbar=False,\n",
    "            xticklabels=['0', '1'],\n",
    "            yticklabels=['0', '1'])\n",
    "plt.title('SVM Confusion Matrix')\n",
    "plt.xlabel('Predicted')\n",
    "plt.ylabel('Actual')\n",
    "plt.show()"
   ]
  },
  {
   "cell_type": "markdown",
   "id": "b1782513",
   "metadata": {},
   "source": [
    "Compiled the important results into a data frame for easy understanding\n",
    "\n",
    "All the models improved with the balanced dataset."
   ]
  },
  {
   "cell_type": "code",
   "execution_count": 35,
   "id": "56abb564",
   "metadata": {
    "scrolled": false
   },
   "outputs": [
    {
     "data": {
      "text/html": [
       "<div>\n",
       "<style scoped>\n",
       "    .dataframe tbody tr th:only-of-type {\n",
       "        vertical-align: middle;\n",
       "    }\n",
       "\n",
       "    .dataframe tbody tr th {\n",
       "        vertical-align: top;\n",
       "    }\n",
       "\n",
       "    .dataframe thead th {\n",
       "        text-align: right;\n",
       "    }\n",
       "</style>\n",
       "<table border=\"1\" class=\"dataframe\">\n",
       "  <thead>\n",
       "    <tr style=\"text-align: right;\">\n",
       "      <th></th>\n",
       "      <th>Model</th>\n",
       "      <th>Accuracy</th>\n",
       "      <th>Precision (Class 1)</th>\n",
       "      <th>Recall (Class 1)</th>\n",
       "      <th>F1-score (Class 1)</th>\n",
       "    </tr>\n",
       "  </thead>\n",
       "  <tbody>\n",
       "    <tr>\n",
       "      <th>0</th>\n",
       "      <td>Random Forest</td>\n",
       "      <td>0.923077</td>\n",
       "      <td>0.925558</td>\n",
       "      <td>0.888095</td>\n",
       "      <td>0.906440</td>\n",
       "    </tr>\n",
       "    <tr>\n",
       "      <th>1</th>\n",
       "      <td>SVM</td>\n",
       "      <td>0.885115</td>\n",
       "      <td>0.863962</td>\n",
       "      <td>0.861905</td>\n",
       "      <td>0.862932</td>\n",
       "    </tr>\n",
       "    <tr>\n",
       "      <th>2</th>\n",
       "      <td>XGBoost</td>\n",
       "      <td>0.911089</td>\n",
       "      <td>0.894988</td>\n",
       "      <td>0.892857</td>\n",
       "      <td>0.893921</td>\n",
       "    </tr>\n",
       "  </tbody>\n",
       "</table>\n",
       "</div>"
      ],
      "text/plain": [
       "           Model  Accuracy  Precision (Class 1)  Recall (Class 1)  \\\n",
       "0  Random Forest  0.923077             0.925558          0.888095   \n",
       "1            SVM  0.885115             0.863962          0.861905   \n",
       "2        XGBoost  0.911089             0.894988          0.892857   \n",
       "\n",
       "   F1-score (Class 1)  \n",
       "0            0.906440  \n",
       "1            0.862932  \n",
       "2            0.893921  "
      ]
     },
     "execution_count": 35,
     "metadata": {},
     "output_type": "execute_result"
    }
   ],
   "source": [
    "results_balance = {\n",
    "    'Model': ['Random Forest', 'SVM', 'XGBoost'],\n",
    "    'Accuracy': [accuracy_score(y_bal_test, rf_bal_y_pred), accuracy_score(y_bal_test, svm_bal_y_pred), accuracy_score(y_bal_test, xgb_bal_y_pred)],\n",
    "    'Precision (Class 1)': [rf_bal_report['1']['precision'], svm_bal_report['1']['precision'], xgb_bal_report['1']['precision']],\n",
    "    'Recall (Class 1)': [rf_bal_report['1']['recall'], svm_bal_report['1']['recall'], xgb_bal_report['1']['recall']],\n",
    "    'F1-score (Class 1)': [rf_bal_report['1']['f1-score'], svm_bal_report['1']['f1-score'], xgb_bal_report['1']['f1-score']]\n",
    "}\n",
    "results_balance_df = pd.DataFrame(results_balance)\n",
    "results_balance_df"
   ]
  },
  {
   "cell_type": "markdown",
   "id": "e17aa6ba",
   "metadata": {},
   "source": [
    "## Model optimization"
   ]
  },
  {
   "cell_type": "markdown",
   "id": "1245f5f8",
   "metadata": {},
   "source": [
    "Random Forest optimization"
   ]
  },
  {
   "cell_type": "code",
   "execution_count": 35,
   "id": "a184cc09",
   "metadata": {},
   "outputs": [
    {
     "name": "stdout",
     "output_type": "stream",
     "text": [
      "Fitting 4 folds for each of 162 candidates, totalling 648 fits\n"
     ]
    },
    {
     "data": {
      "text/plain": [
       "{'bootstrap': False,\n",
       " 'max_depth': 15,\n",
       " 'max_features': 'log2',\n",
       " 'min_samples_leaf': 1,\n",
       " 'min_samples_split': 2,\n",
       " 'n_estimators': 100}"
      ]
     },
     "execution_count": 35,
     "metadata": {},
     "output_type": "execute_result"
    }
   ],
   "source": [
    "param_dist = {\n",
    "    'n_estimators': [50, 100, 150],\n",
    "    'max_depth': [15, 20, 25],\n",
    "    'min_samples_split': [2, 5, 10],\n",
    "    'min_samples_leaf': [1, 2, 4],\n",
    "    'max_features': ['auto', 'log2'],\n",
    "    'bootstrap': [False]\n",
    "}\n",
    "\n",
    "rf2 = RandomForestClassifier()\n",
    "rf_grid = GridSearchCV(estimator=rf2, param_grid=param_dist, cv=4, verbose=1, n_jobs=-1)\n",
    "rf_grid.fit(X_bal_train, y_bal_train)\n",
    "best_gridparams = rf_grid.best_params_\n",
    "best_gridparams"
   ]
  },
  {
   "cell_type": "code",
   "execution_count": 36,
   "id": "7ce78ef7",
   "metadata": {},
   "outputs": [
    {
     "name": "stdout",
     "output_type": "stream",
     "text": [
      "              precision    recall  f1-score   support\n",
      "\n",
      "           0       0.93      0.96      0.94       581\n",
      "           1       0.94      0.90      0.92       420\n",
      "\n",
      "    accuracy                           0.93      1001\n",
      "   macro avg       0.93      0.93      0.93      1001\n",
      "weighted avg       0.93      0.93      0.93      1001\n",
      "\n"
     ]
    }
   ],
   "source": [
    "rf_grid_y_pred = rf_grid.predict(X_bal_test)\n",
    "\n",
    "print(classification_report(y_bal_test, rf_grid_y_pred))"
   ]
  },
  {
   "cell_type": "code",
   "execution_count": 55,
   "id": "fe0c6e07",
   "metadata": {
    "scrolled": true
   },
   "outputs": [
    {
     "name": "stdout",
     "output_type": "stream",
     "text": [
      "              precision    recall  f1-score   support\n",
      "\n",
      "           0       0.93      0.95      0.94       581\n",
      "           1       0.93      0.90      0.92       420\n",
      "\n",
      "    accuracy                           0.93      1001\n",
      "   macro avg       0.93      0.93      0.93      1001\n",
      "weighted avg       0.93      0.93      0.93      1001\n",
      "\n"
     ]
    }
   ],
   "source": [
    "rf3 = RandomForestClassifier(random_state=12,bootstrap=False, max_depth=15, max_features='log2', n_estimators=100, min_samples_leaf=1, min_samples_split=2)\n",
    "rf3.fit(X_bal_train, y_bal_train)\n",
    "rf3_y_pred = rf3.predict(X_bal_test)\n",
    "rf3_report = classification_report(y_bal_test, rf3_y_pred, output_dict=True)\n",
    "print(classification_report(y_bal_test,rf3_y_pred))"
   ]
  },
  {
   "cell_type": "markdown",
   "id": "d5ee28fc",
   "metadata": {},
   "source": [
    "Feature Importance of the model"
   ]
  },
  {
   "cell_type": "code",
   "execution_count": 41,
   "id": "9d334b48",
   "metadata": {
    "scrolled": false
   },
   "outputs": [
    {
     "data": {
      "text/html": [
       "<div>\n",
       "<style scoped>\n",
       "    .dataframe tbody tr th:only-of-type {\n",
       "        vertical-align: middle;\n",
       "    }\n",
       "\n",
       "    .dataframe tbody tr th {\n",
       "        vertical-align: top;\n",
       "    }\n",
       "\n",
       "    .dataframe thead th {\n",
       "        text-align: right;\n",
       "    }\n",
       "</style>\n",
       "<table border=\"1\" class=\"dataframe\">\n",
       "  <thead>\n",
       "    <tr style=\"text-align: right;\">\n",
       "      <th></th>\n",
       "      <th>Feature</th>\n",
       "      <th>Importance</th>\n",
       "    </tr>\n",
       "  </thead>\n",
       "  <tbody>\n",
       "    <tr>\n",
       "      <th>0</th>\n",
       "      <td>Recency</td>\n",
       "      <td>9.439%</td>\n",
       "    </tr>\n",
       "    <tr>\n",
       "      <th>1</th>\n",
       "      <td>Income</td>\n",
       "      <td>7.690%</td>\n",
       "    </tr>\n",
       "    <tr>\n",
       "      <th>2</th>\n",
       "      <td>MntWines</td>\n",
       "      <td>7.411%</td>\n",
       "    </tr>\n",
       "    <tr>\n",
       "      <th>3</th>\n",
       "      <td>MntGoldProds</td>\n",
       "      <td>6.909%</td>\n",
       "    </tr>\n",
       "    <tr>\n",
       "      <th>4</th>\n",
       "      <td>Tenure</td>\n",
       "      <td>6.647%</td>\n",
       "    </tr>\n",
       "    <tr>\n",
       "      <th>5</th>\n",
       "      <td>MntMeatProducts</td>\n",
       "      <td>6.393%</td>\n",
       "    </tr>\n",
       "    <tr>\n",
       "      <th>6</th>\n",
       "      <td>Marital_Status_Married</td>\n",
       "      <td>5.876%</td>\n",
       "    </tr>\n",
       "    <tr>\n",
       "      <th>7</th>\n",
       "      <td>Marital_Status_Single</td>\n",
       "      <td>5.617%</td>\n",
       "    </tr>\n",
       "    <tr>\n",
       "      <th>8</th>\n",
       "      <td>Marital_Status_Together</td>\n",
       "      <td>4.796%</td>\n",
       "    </tr>\n",
       "    <tr>\n",
       "      <th>9</th>\n",
       "      <td>NumStorePurchases</td>\n",
       "      <td>4.764%</td>\n",
       "    </tr>\n",
       "    <tr>\n",
       "      <th>10</th>\n",
       "      <td>Teenhome</td>\n",
       "      <td>4.692%</td>\n",
       "    </tr>\n",
       "    <tr>\n",
       "      <th>11</th>\n",
       "      <td>Marital_Status_Divorced/Widow</td>\n",
       "      <td>4.076%</td>\n",
       "    </tr>\n",
       "    <tr>\n",
       "      <th>12</th>\n",
       "      <td>Age</td>\n",
       "      <td>3.447%</td>\n",
       "    </tr>\n",
       "    <tr>\n",
       "      <th>13</th>\n",
       "      <td>MntSweetProducts</td>\n",
       "      <td>3.444%</td>\n",
       "    </tr>\n",
       "    <tr>\n",
       "      <th>14</th>\n",
       "      <td>MntFishProducts</td>\n",
       "      <td>3.193%</td>\n",
       "    </tr>\n",
       "    <tr>\n",
       "      <th>15</th>\n",
       "      <td>MntFruits</td>\n",
       "      <td>2.931%</td>\n",
       "    </tr>\n",
       "    <tr>\n",
       "      <th>16</th>\n",
       "      <td>NumCatalogPurchases</td>\n",
       "      <td>2.903%</td>\n",
       "    </tr>\n",
       "    <tr>\n",
       "      <th>17</th>\n",
       "      <td>NumWebVisitsMonth</td>\n",
       "      <td>2.693%</td>\n",
       "    </tr>\n",
       "    <tr>\n",
       "      <th>18</th>\n",
       "      <td>NumDealsPurchases</td>\n",
       "      <td>2.412%</td>\n",
       "    </tr>\n",
       "    <tr>\n",
       "      <th>19</th>\n",
       "      <td>NumWebPurchases</td>\n",
       "      <td>2.217%</td>\n",
       "    </tr>\n",
       "    <tr>\n",
       "      <th>20</th>\n",
       "      <td>Education</td>\n",
       "      <td>1.730%</td>\n",
       "    </tr>\n",
       "    <tr>\n",
       "      <th>21</th>\n",
       "      <td>Kidhome</td>\n",
       "      <td>0.555%</td>\n",
       "    </tr>\n",
       "    <tr>\n",
       "      <th>22</th>\n",
       "      <td>Marital_Status_Unknown</td>\n",
       "      <td>0.148%</td>\n",
       "    </tr>\n",
       "    <tr>\n",
       "      <th>23</th>\n",
       "      <td>Complain</td>\n",
       "      <td>0.016%</td>\n",
       "    </tr>\n",
       "  </tbody>\n",
       "</table>\n",
       "</div>"
      ],
      "text/plain": [
       "                          Feature Importance\n",
       "0                         Recency     9.439%\n",
       "1                          Income     7.690%\n",
       "2                        MntWines     7.411%\n",
       "3                    MntGoldProds     6.909%\n",
       "4                          Tenure     6.647%\n",
       "5                 MntMeatProducts     6.393%\n",
       "6          Marital_Status_Married     5.876%\n",
       "7           Marital_Status_Single     5.617%\n",
       "8         Marital_Status_Together     4.796%\n",
       "9               NumStorePurchases     4.764%\n",
       "10                       Teenhome     4.692%\n",
       "11  Marital_Status_Divorced/Widow     4.076%\n",
       "12                            Age     3.447%\n",
       "13               MntSweetProducts     3.444%\n",
       "14                MntFishProducts     3.193%\n",
       "15                      MntFruits     2.931%\n",
       "16            NumCatalogPurchases     2.903%\n",
       "17              NumWebVisitsMonth     2.693%\n",
       "18              NumDealsPurchases     2.412%\n",
       "19                NumWebPurchases     2.217%\n",
       "20                      Education     1.730%\n",
       "21                        Kidhome     0.555%\n",
       "22         Marital_Status_Unknown     0.148%\n",
       "23                       Complain     0.016%"
      ]
     },
     "execution_count": 41,
     "metadata": {},
     "output_type": "execute_result"
    }
   ],
   "source": [
    "columns = X.columns\n",
    "feature_imp = pd.Series(rf3.feature_importances_, index = columns).sort_values(ascending = False)\n",
    "feature_imp_df = pd.DataFrame({'Feature': feature_imp.index, 'Importance': feature_imp.values*100})\n",
    "feature_imp_df['Importance'] = feature_imp_df['Importance'].apply(lambda x: f'{x:.3f}%')\n",
    "\n",
    "feature_imp_df"
   ]
  },
  {
   "cell_type": "markdown",
   "id": "6c78f63a",
   "metadata": {},
   "source": [
    "XGBoost optimization"
   ]
  },
  {
   "cell_type": "code",
   "execution_count": 37,
   "id": "2fe303cf",
   "metadata": {},
   "outputs": [
    {
     "name": "stdout",
     "output_type": "stream",
     "text": [
      "Fitting 4 folds for each of 500 candidates, totalling 2000 fits\n"
     ]
    },
    {
     "data": {
      "text/plain": [
       "{'subsample': 0.6,\n",
       " 'n_estimators': 300,\n",
       " 'min_child_weight': 2,\n",
       " 'max_depth': 15,\n",
       " 'learning_rate': 0.1,\n",
       " 'gamma': 0.3,\n",
       " 'colsample_bytree': 0.9}"
      ]
     },
     "execution_count": 37,
     "metadata": {},
     "output_type": "execute_result"
    }
   ],
   "source": [
    "param_dist = {\n",
    "    'n_estimators': [100, 200, 300, 400],\n",
    "    'learning_rate': [0.01, 0.05, 0.1, 0.2],\n",
    "    'max_depth': [6, 7, 8, 10, 15, 20],\n",
    "    'min_child_weight': [1, 2, 3, 5],\n",
    "    'subsample': [0.6, 0.7, 0.9, 1.0],\n",
    "    'colsample_bytree': [0.6, 0.8, 0.9, 1.0],\n",
    "    'gamma': [0, 0.1, 0.2, 0.3, 0.4, 0.5]\n",
    "}\n",
    "\n",
    "xgb_model2 = xgb.XGBClassifier()\n",
    "xgb_grid = RandomizedSearchCV(estimator=xgb_model2, param_distributions=param_dist, n_iter=500, cv=4, verbose=2, random_state=42, n_jobs=-1)\n",
    "xgb_grid.fit(X_bal_train, y_bal_train)\n",
    "xgb_grid.best_params_"
   ]
  },
  {
   "cell_type": "code",
   "execution_count": 38,
   "id": "8c39a1cd",
   "metadata": {
    "scrolled": true
   },
   "outputs": [
    {
     "name": "stdout",
     "output_type": "stream",
     "text": [
      "              precision    recall  f1-score   support\n",
      "\n",
      "           0       0.92      0.93      0.93       581\n",
      "           1       0.91      0.89      0.90       420\n",
      "\n",
      "    accuracy                           0.92      1001\n",
      "   macro avg       0.92      0.91      0.91      1001\n",
      "weighted avg       0.92      0.92      0.92      1001\n",
      "\n"
     ]
    }
   ],
   "source": [
    "xgb_grid_y_pred = xgb_grid.predict(X_bal_test)\n",
    "xgb_grid_report = classification_report(y_bal_test, xgb_grid_y_pred, output_dict=True)\n",
    "print(classification_report(y_bal_test, xgb_grid_y_pred))"
   ]
  },
  {
   "cell_type": "code",
   "execution_count": 45,
   "id": "7d0f5fae",
   "metadata": {},
   "outputs": [
    {
     "name": "stdout",
     "output_type": "stream",
     "text": [
      "              precision    recall  f1-score   support\n",
      "\n",
      "           0       0.92      0.93      0.93       581\n",
      "           1       0.91      0.89      0.90       420\n",
      "\n",
      "    accuracy                           0.92      1001\n",
      "   macro avg       0.92      0.91      0.91      1001\n",
      "weighted avg       0.92      0.92      0.92      1001\n",
      "\n"
     ]
    }
   ],
   "source": [
    "xgb_model3 = xgb.XGBClassifier(random_state=10, subsample=0.6, n_estimators=300, min_child_weight = 2, max_depth=15,\n",
    "                              learning_rate=0.1, gamma = 0.3, colsample_bytree = 0.9)\n",
    "xgb_model3.fit(X_bal_train, y_bal_train)\n",
    "\n",
    "xgb3_y_pred = xgb_model3.predict(X_bal_test)\n",
    "xgb3_report = classification_report(y_bal_test, xgb3_y_pred, output_dict=True)\n",
    "print(classification_report(y_bal_test, xgb3_y_pred))"
   ]
  },
  {
   "cell_type": "markdown",
   "id": "9310851d",
   "metadata": {},
   "source": [
    "SVM optimization"
   ]
  },
  {
   "cell_type": "code",
   "execution_count": 43,
   "id": "02ca4a2e",
   "metadata": {
    "scrolled": true
   },
   "outputs": [
    {
     "data": {
      "text/plain": [
       "{'C': 10.066368370739054, 'gamma': 'scale', 'kernel': 'rbf'}"
      ]
     },
     "execution_count": 43,
     "metadata": {},
     "output_type": "execute_result"
    }
   ],
   "source": [
    "param_grid = {\n",
    "    'C': uniform(0.1, 10),  # Regularization parameter\n",
    "    'gamma': ['scale', 'auto'],  # Kernel coefficient\n",
    "    'kernel': ['linear', 'poly', 'rbf', 'sigmoid']  # Kernel type\n",
    "}\n",
    "\n",
    "svm2 = SVC(probability=True)\n",
    "svm_random = RandomizedSearchCV(estimator=svm2, param_distributions=param_grid, n_iter=300, cv=5, random_state=42, n_jobs=-1)\n",
    "svm_random.fit(X_bal_train_scaled, y_bal_train_red)\n",
    "svm_random.best_params_"
   ]
  },
  {
   "cell_type": "code",
   "execution_count": 44,
   "id": "17b957df",
   "metadata": {
    "scrolled": false
   },
   "outputs": [
    {
     "name": "stdout",
     "output_type": "stream",
     "text": [
      "              precision    recall  f1-score   support\n",
      "\n",
      "           0       0.92      0.90      0.91       581\n",
      "           1       0.87      0.89      0.88       420\n",
      "\n",
      "    accuracy                           0.90      1001\n",
      "   macro avg       0.89      0.90      0.89      1001\n",
      "weighted avg       0.90      0.90      0.90      1001\n",
      "\n"
     ]
    }
   ],
   "source": [
    "svm_random_y_pred = svm_random.predict(X_bal_test_scaled)\n",
    "svm_random_report = classification_report(y_bal_test_red, svm_random_y_pred, output_dict=True)\n",
    "print(classification_report(y_bal_test_red, svm_random_y_pred))"
   ]
  },
  {
   "cell_type": "code",
   "execution_count": 49,
   "id": "e1905167",
   "metadata": {},
   "outputs": [
    {
     "name": "stdout",
     "output_type": "stream",
     "text": [
      "              precision    recall  f1-score   support\n",
      "\n",
      "           0       0.92      0.90      0.91       581\n",
      "           1       0.87      0.89      0.88       420\n",
      "\n",
      "    accuracy                           0.90      1001\n",
      "   macro avg       0.89      0.90      0.89      1001\n",
      "weighted avg       0.90      0.90      0.90      1001\n",
      "\n"
     ]
    }
   ],
   "source": [
    "svm3 = SVC(random_state = 10, probability=True, C = 10.066368370739054, gamma = 'scale', kernel = 'rbf')\n",
    "svm3.fit(X_bal_train_scaled, y_bal_train_red)\n",
    "\n",
    "svm3_y_pred = svm3.predict(X_bal_test_scaled)\n",
    "svm3_report = classification_report(y_bal_test_red, svm3_y_pred, output_dict=True)\n",
    "print(classification_report(y_bal_test_red, svm3_y_pred))"
   ]
  },
  {
   "cell_type": "code",
   "execution_count": 56,
   "id": "de629a19",
   "metadata": {},
   "outputs": [
    {
     "data": {
      "text/html": [
       "<div>\n",
       "<style scoped>\n",
       "    .dataframe tbody tr th:only-of-type {\n",
       "        vertical-align: middle;\n",
       "    }\n",
       "\n",
       "    .dataframe tbody tr th {\n",
       "        vertical-align: top;\n",
       "    }\n",
       "\n",
       "    .dataframe thead th {\n",
       "        text-align: right;\n",
       "    }\n",
       "</style>\n",
       "<table border=\"1\" class=\"dataframe\">\n",
       "  <thead>\n",
       "    <tr style=\"text-align: right;\">\n",
       "      <th></th>\n",
       "      <th>Model</th>\n",
       "      <th>Accuracy</th>\n",
       "      <th>Precision (Class 1)</th>\n",
       "      <th>Recall (Class 1)</th>\n",
       "      <th>F1-score (Class 1)</th>\n",
       "    </tr>\n",
       "  </thead>\n",
       "  <tbody>\n",
       "    <tr>\n",
       "      <th>0</th>\n",
       "      <td>Random Forest</td>\n",
       "      <td>0.932068</td>\n",
       "      <td>0.933498</td>\n",
       "      <td>0.902381</td>\n",
       "      <td>0.917676</td>\n",
       "    </tr>\n",
       "    <tr>\n",
       "      <th>1</th>\n",
       "      <td>SVM</td>\n",
       "      <td>0.897103</td>\n",
       "      <td>0.867749</td>\n",
       "      <td>0.890476</td>\n",
       "      <td>0.878966</td>\n",
       "    </tr>\n",
       "    <tr>\n",
       "      <th>2</th>\n",
       "      <td>XGBoost</td>\n",
       "      <td>0.917083</td>\n",
       "      <td>0.907990</td>\n",
       "      <td>0.892857</td>\n",
       "      <td>0.900360</td>\n",
       "    </tr>\n",
       "  </tbody>\n",
       "</table>\n",
       "</div>"
      ],
      "text/plain": [
       "           Model  Accuracy  Precision (Class 1)  Recall (Class 1)  \\\n",
       "0  Random Forest  0.932068             0.933498          0.902381   \n",
       "1            SVM  0.897103             0.867749          0.890476   \n",
       "2        XGBoost  0.917083             0.907990          0.892857   \n",
       "\n",
       "   F1-score (Class 1)  \n",
       "0            0.917676  \n",
       "1            0.878966  \n",
       "2            0.900360  "
      ]
     },
     "execution_count": 56,
     "metadata": {},
     "output_type": "execute_result"
    }
   ],
   "source": [
    "results_optimized = {\n",
    "    'Model': ['Random Forest', 'SVM', 'XGBoost'],\n",
    "    'Accuracy': [accuracy_score(y_bal_test, rf3_y_pred), accuracy_score(y_bal_test, svm3_y_pred), accuracy_score(y_bal_test, xgb3_y_pred)],\n",
    "    'Precision (Class 1)': [rf3_report['1']['precision'], svm3_report['1']['precision'], xgb3_report['1']['precision']],\n",
    "    'Recall (Class 1)': [rf3_report['1']['recall'], svm3_report['1']['recall'], xgb3_report['1']['recall']],\n",
    "    'F1-score (Class 1)': [rf3_report['1']['f1-score'], svm3_report['1']['f1-score'], xgb3_report['1']['f1-score']]\n",
    "}\n",
    "results_optimized_df = pd.DataFrame(results_optimized)\n",
    "results_optimized_df"
   ]
  },
  {
   "cell_type": "code",
   "execution_count": 46,
   "id": "86befbe8",
   "metadata": {},
   "outputs": [],
   "source": [
    "def plot_roc_curve(model1, model2, model3, X_test1, y_test1, X_test2, y_test2, label1, label2, label3):\n",
    "    y_probs1 = model1.predict_proba(X_test1)[:,1]\n",
    "    y_probs2 = model2.predict_proba(X_test2)[:,1]\n",
    "    y_probs3 = model3.predict_proba(X_test2)[:,1]\n",
    "    \n",
    "    fpr1, tpr1, thresholds1 = roc_curve(y_test1, y_probs1)\n",
    "    roc_auc1 = auc(fpr1, tpr1) \n",
    "    \n",
    "    fpr2, tpr2, thresholds2 = roc_curve(y_test2, y_probs2)\n",
    "    roc_auc2 = auc(fpr2, tpr2)\n",
    "\n",
    "    fpr3, tpr3, thresholds3 = roc_curve(y_test2, y_probs3)\n",
    "    roc_auc3 = auc(fpr3, tpr3)\n",
    "    # Plot both ROC curves on the same graph\n",
    "    plt.figure()\n",
    "    plt.plot(fpr1, tpr1, color='darkorange', lw=2, label=f'{label1} (area = %0.2f)' % roc_auc1)\n",
    "    plt.plot(fpr2, tpr2, color='blue', lw=2, label=f'{label2} (area = %0.2f)' % roc_auc2)\n",
    "    plt.plot(fpr3, tpr3, color='green', lw=2, label=f'{label3} (area = %0.2f)' % roc_auc2)\n",
    "    plt.plot([0, 1], [0, 1], color='navy', lw=2, linestyle='--')\n",
    "    plt.xlim([0.0, 1.0])\n",
    "    plt.ylim([0.0, 1.05])\n",
    "    plt.xlabel('False Positive Rate')\n",
    "    plt.ylabel('True Positive Rate')\n",
    "    plt.title('Receiver Operating Characteristic')\n",
    "    plt.legend(loc=\"lower right\")\n",
    "    plt.show()    "
   ]
  },
  {
   "cell_type": "code",
   "execution_count": 48,
   "id": "c1a907f9",
   "metadata": {
    "scrolled": false
   },
   "outputs": [
    {
     "data": {
      "image/png": "[encoded data removed]",
      "text/plain": [
       "<Figure size 640x480 with 1 Axes>"
      ]
     },
     "metadata": {},
     "output_type": "display_data"
    },
    {
     "data": {
      "image/png": "[encoded data removed]",
      "text/plain": [
       "<Figure size 640x480 with 1 Axes>"
      ]
     },
     "metadata": {},
     "output_type": "display_data"
    },
    {
     "data": {
      "image/png": "[encoded data removed]",
      "text/plain": [
       "<Figure size 640x480 with 1 Axes>"
      ]
     },
     "metadata": {},
     "output_type": "display_data"
    }
   ],
   "source": [
    "plot_roc_curve(rf, rf_bal, rf_grid, X_test, y_test, X_bal_test, y_bal_test, \"Random Forest\",\"Random Forest Balanced\", \"Random Forest Optimized\")\n",
    "plot_roc_curve(xgb_model, xgb_bal_model, xgb_grid, X_test, y_test, X_bal_test, y_bal_test, \"XGBoost\",\"XGBoost Balanced\", \"XGBoost Optimized\")\n",
    "plot_roc_curve(svm_classifier, svm_classifier_bal, svm_random, X_test_scaled, y_test_red, X_bal_test_scaled, y_bal_test_red, \"SVM\",\"SVM Balanced\", \"SVM Optimized\")"
   ]
  }
 ],
 "metadata": {
  "kernelspec": {
   "display_name": "Python 3 (ipykernel)",
   "language": "python",
   "name": "python3"
  },
  "language_info": {
   "codemirror_mode": {
    "name": "ipython",
    "version": 3
   },
   "file_extension": ".py",
   "mimetype": "text/x-python",
   "name": "python",
   "nbconvert_exporter": "python",
   "pygments_lexer": "ipython3",
   "version": "3.9.13"
  }
 },
 "nbformat": 4,
 "nbformat_minor": 5
}
